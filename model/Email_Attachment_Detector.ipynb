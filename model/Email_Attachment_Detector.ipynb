{
 "cells": [
  {
   "cell_type": "markdown",
   "metadata": {},
   "source": [
    "# Email Attachment Detector\n",
    "\n",
    "By: Marius Barcenas, Julia Dy, Joshua Felipe\n",
    "\n",
    "This CS 180 (Artificial Intelligence) project aims to develop an AI model that determines whether an email should include an attachment based on its text content. It will be trained to analyze the purpose of the email and identify keywords or phrases that suggest the presence of an attachment. This project used the researchers’ personal and marketing emails as their dataset."
   ]
  },
  {
   "cell_type": "markdown",
   "metadata": {},
   "source": [
    "# Installing and Importing Relevant Libraries"
   ]
  },
  {
   "cell_type": "code",
   "execution_count": 1,
   "metadata": {},
   "outputs": [
    {
     "name": "stdout",
     "output_type": "stream",
     "text": [
      "Requirement already satisfied: html2text in /Library/Frameworks/Python.framework/Versions/3.11/lib/python3.11/site-packages (2024.2.26)\n",
      "Requirement already satisfied: pandas in /Library/Frameworks/Python.framework/Versions/3.11/lib/python3.11/site-packages (2.1.4)\n",
      "Requirement already satisfied: cleantext in /Library/Frameworks/Python.framework/Versions/3.11/lib/python3.11/site-packages (1.1.4)\n",
      "Requirement already satisfied: nltk in /Library/Frameworks/Python.framework/Versions/3.11/lib/python3.11/site-packages (3.8.1)\n",
      "Requirement already satisfied: demoji in /Library/Frameworks/Python.framework/Versions/3.11/lib/python3.11/site-packages (1.1.0)\n",
      "Requirement already satisfied: joblib in /Library/Frameworks/Python.framework/Versions/3.11/lib/python3.11/site-packages (1.4.0)\n",
      "Requirement already satisfied: numpy<2,>=1.23.2 in /Library/Frameworks/Python.framework/Versions/3.11/lib/python3.11/site-packages (from pandas) (1.26.1)\n",
      "Requirement already satisfied: python-dateutil>=2.8.2 in /Library/Frameworks/Python.framework/Versions/3.11/lib/python3.11/site-packages (from pandas) (2.8.2)\n",
      "Requirement already satisfied: pytz>=2020.1 in /Library/Frameworks/Python.framework/Versions/3.11/lib/python3.11/site-packages (from pandas) (2023.3.post1)\n",
      "Requirement already satisfied: tzdata>=2022.1 in /Library/Frameworks/Python.framework/Versions/3.11/lib/python3.11/site-packages (from pandas) (2023.3)\n",
      "Requirement already satisfied: click in /Library/Frameworks/Python.framework/Versions/3.11/lib/python3.11/site-packages (from nltk) (8.1.7)\n",
      "Requirement already satisfied: regex>=2021.8.3 in /Library/Frameworks/Python.framework/Versions/3.11/lib/python3.11/site-packages (from nltk) (2024.5.15)\n",
      "Requirement already satisfied: tqdm in /Library/Frameworks/Python.framework/Versions/3.11/lib/python3.11/site-packages (from nltk) (4.66.1)\n",
      "Requirement already satisfied: six>=1.5 in /Library/Frameworks/Python.framework/Versions/3.11/lib/python3.11/site-packages (from python-dateutil>=2.8.2->pandas) (1.16.0)\n",
      "Note: you may need to restart the kernel to use updated packages.\n"
     ]
    }
   ],
   "source": [
    "pip install html2text pandas cleantext nltk demoji joblib"
   ]
  },
  {
   "cell_type": "code",
   "execution_count": 2,
   "metadata": {},
   "outputs": [],
   "source": [
    "# Importing the libraries to be used\n",
    "import html2text as h\n",
    "import pandas as pd\n",
    "import cleantext\n",
    "import demoji\n",
    "import re\n",
    "from joblib import dump, load\n",
    "\n",
    "# Constant filenames\n",
    "ORIG_FILE = \"emails_rows.csv\"\n",
    "NEW_FILE = f\"modified_{ORIG_FILE}\""
   ]
  },
  {
   "cell_type": "markdown",
   "metadata": {},
   "source": [
    "# Data Collection and Preprocessing\n",
    "\n",
    "Gmail emails of the researchers were scraped using a Google API, and were saved to a Supabase project for tagging and data cleaning.\n",
    "\n",
    "The researchers manually tagged the data based on whether or not they should have an attachment through a personalized web application.\n",
    "\n",
    "Emails were stripped to their bare content. Specifically, email tags, emojis, extraneous whitespaces, links, punctuations, and email signatures were removed using the html2text, demoji and cleantext libraries.\n",
    "\n",
    "Data contains the following labels ('id', 'created_at', 'email', 'email_timestamp', 'content', 'tag', 'valid', 'tag_timestamp', 'from', 'subject', 'tagger'). Only the content and tag are relevant for this project."
   ]
  },
  {
   "cell_type": "code",
   "execution_count": 3,
   "metadata": {},
   "outputs": [],
   "source": [
    "def removeExtraCharacters(s):\n",
    "    # Uses cleantext library to remove extra characters, lowecase all text, and remove stopwords\n",
    "    return cleantext.clean(s, lowercase=True, punct=True, extra_spaces=True, stopwords=True, stp_lang='english')\n",
    "\n",
    "def cleanString(s):\n",
    "    # Uses demoji library to remove any emojis in the email.\n",
    "    return demoji.replace(removeExtraCharacters(s), '')\n",
    "\n",
    "def removeReplies(s):\n",
    "    # Removes any replies in the email.\n",
    "    return re.sub(r'<[^<]*class=\\\"gmail_quote\\\"[\\s\\S]*$', '', s)"
   ]
  },
  {
   "cell_type": "markdown",
   "metadata": {},
   "source": [
    "### Important\n",
    "\n",
    "Before running the preprocessing code, download the nltk stopwords here: https://www.nltk.org/nltk_data/\n",
    "\n",
    "Extract and put the stop words to the nltk_data folder in your home directory.\n",
    "\n",
    "In my case: /User/\\<NAME\\>/nltk_data/corpora"
   ]
  },
  {
   "cell_type": "code",
   "execution_count": 4,
   "metadata": {},
   "outputs": [],
   "source": [
    "# PREPROCESSING\n",
    "\n",
    "# Load the data\n",
    "data = pd.read_csv(ORIG_FILE)\n",
    "\n",
    "# Data Cleaning\n",
    "data = data.dropna()                                # Drop rows with missing data\n",
    "data.tag = data.tag.replace({True: 1, False: 0})    # Convert boolean tags to 1 and 0\n",
    "data[\"content\"] = data[\"content\"].apply(lambda x: removeReplies(x))\n",
    "data[\"content\"] = data[\"content\"].apply(lambda x: cleanString(h.html2text(x)))\n",
    "\n",
    "# Save the data to NEW_FILE\n",
    "data.to_csv(NEW_FILE, index=False)\n"
   ]
  },
  {
   "cell_type": "code",
   "execution_count": 5,
   "metadata": {},
   "outputs": [
    {
     "data": {
      "text/plain": [
       "Index(['id', 'created_at', 'email', 'email_timestamp', 'content', 'tag',\n",
       "       'valid', 'tag_timestamp', 'from', 'subject', 'tagger'],\n",
       "      dtype='object')"
      ]
     },
     "execution_count": 5,
     "metadata": {},
     "output_type": "execute_result"
    }
   ],
   "source": [
    "# IMPORTING THE MODIFIED DATA\n",
    "data = pd.read_csv(NEW_FILE)\n",
    "data.columns"
   ]
  },
  {
   "cell_type": "markdown",
   "metadata": {},
   "source": [
    "# Setting up the Training and Testing Data\n",
    "\n",
    "All of the words were changed into lowercase letters and tokenised and vectorised using TfidfVectorizer() from the sklearn library. In addition, the researchers removed stopwords using the same library."
   ]
  },
  {
   "cell_type": "code",
   "execution_count": 6,
   "metadata": {},
   "outputs": [
    {
     "name": "stdout",
     "output_type": "stream",
     "text": [
      "(1557, 11)\n",
      "(934, 44824)\n",
      "(623, 44824)\n",
      "(934,)\n",
      "(623,)\n"
     ]
    }
   ],
   "source": [
    "from sklearn.model_selection import train_test_split\n",
    "from sklearn.feature_extraction.text import TfidfVectorizer\n",
    "\n",
    "# Using the TfidfVectorizer to convert the text data into a matrix of TF-IDF features\n",
    "tfidf = TfidfVectorizer(sublinear_tf=True, min_df=1, norm='l2', encoding='utf-8', ngram_range=(1, 2), stop_words='english')\n",
    "\n",
    "# Splitting the data into training and testing data\n",
    "x = tfidf.fit_transform(data[\"content\"].values.astype('U'))\n",
    "y = data[\"tag\"].values\n",
    "x_train, x_test, y_train, y_test = train_test_split(x, y, test_size=0.40, random_state=16)\n",
    "\n",
    "print(data.shape)\n",
    "print(x_train.shape)\n",
    "print(x_test.shape)\n",
    "print(y_train.shape)\n",
    "print(y_test.shape)"
   ]
  },
  {
   "cell_type": "markdown",
   "metadata": {},
   "source": [
    "# Printing and Saving the Model's Results"
   ]
  },
  {
   "cell_type": "code",
   "execution_count": 7,
   "metadata": {},
   "outputs": [],
   "source": [
    "import seaborn as sns\n",
    "import matplotlib.pyplot as plt\n",
    "from sklearn.metrics import confusion_matrix, classification_report\n",
    "from sklearn.metrics import accuracy_score, f1_score, precision_score, recall_score\n",
    "\n",
    "def print_report(y_test, y_pred):\n",
    "    print(classification_report(y_test, y_pred))\n",
    "    mat = confusion_matrix(y_test, y_pred)\n",
    "    sns.heatmap(mat, square = True, annot = True, cbar = False)\n",
    "    plt.xlabel('predicted value')\n",
    "    plt.ylabel('true value')\n",
    "\n",
    "def print_scores(y_test, y_pred):\n",
    "    accuracy = accuracy_score(y_test, y_pred)\n",
    "    print('accuracy: %.2f' % accuracy)\n",
    "    print('precision: %.2f' % precision_score(y_test, y_pred,average='weighted'))\n",
    "    print('recall: %.2f' % recall_score(y_test, y_pred,average='weighted'))\n",
    "    print('f1_score: %.2f' % f1_score(y_test, y_pred,average='weighted'))\n",
    "\n",
    "def save_and_load_model(model, filename):\n",
    "    dump(model, filename)\n",
    "    return load(open(filename, 'rb'))"
   ]
  },
  {
   "cell_type": "markdown",
   "metadata": {},
   "source": [
    "# Training the Model\n",
    "\n",
    "The researchers implemented and compared the performance of three different machine learning models: Naive Bayes, Logistic Regression, and Support Vector Machines (SVM). Each model was trained on the preprocessed dataset described above, and their performances were evaluated based on accuracy, precision, F1 score, and recall."
   ]
  },
  {
   "cell_type": "markdown",
   "metadata": {},
   "source": [
    "## Naive Bayes Classfier\n",
    "\n",
    "Naive Bayes is computationally efficient, making it a good baseline model. It handles high-dimensional textual content statistics by assuming function independence. Moreover, it gives probabilistic outputs that provide insights into its predictions."
   ]
  },
  {
   "cell_type": "code",
   "execution_count": 8,
   "metadata": {},
   "outputs": [
    {
     "name": "stdout",
     "output_type": "stream",
     "text": [
      "accuracy: 0.90\n",
      "precision: 0.90\n",
      "recall: 0.90\n",
      "f1_score: 0.90\n",
      "              precision    recall  f1-score   support\n",
      "\n",
      "           0       0.89      0.98      0.93       452\n",
      "           1       0.93      0.69      0.79       171\n",
      "\n",
      "    accuracy                           0.90       623\n",
      "   macro avg       0.91      0.84      0.86       623\n",
      "weighted avg       0.90      0.90      0.90       623\n",
      "\n"
     ]
    },
    {
     "data": {
      "image/png": "[encoded data removed]",
      "text/plain": [
       "<Figure size 640x480 with 1 Axes>"
      ]
     },
     "metadata": {},
     "output_type": "display_data"
    }
   ],
   "source": [
    "# NAIVE BAYES CLASSIFIER\n",
    "from sklearn.naive_bayes import MultinomialNB\n",
    "\n",
    "nb_model = MultinomialNB().fit(x_train, y_train)            # Initializing an instance for Naive Bayes Classifier and Training the model\n",
    "load_model = save_and_load_model(nb_model, 'nb_model.pkl')  # Saving and loading the model\n",
    "y_pred = load_model.predict(x_test)                         # Predicting the test data\n",
    "\n",
    "# Printing the scores and report\n",
    "print_scores(y_test, y_pred)\n",
    "print_report(y_test, y_pred)"
   ]
  },
  {
   "cell_type": "markdown",
   "metadata": {},
   "source": [
    "## Logistic Regression\n",
    "Logistic Regression is highly interpretable, offering clear insights into words or phrases that are most influential in predicting the need for an attachment. It scales well with large datasets, essential for processing extensive email data."
   ]
  },
  {
   "cell_type": "code",
   "execution_count": 9,
   "metadata": {},
   "outputs": [
    {
     "name": "stdout",
     "output_type": "stream",
     "text": [
      "accuracy: 0.91\n",
      "precision: 0.91\n",
      "recall: 0.91\n",
      "f1_score: 0.90\n",
      "              precision    recall  f1-score   support\n",
      "\n",
      "           0       0.89      0.99      0.94       452\n",
      "           1       0.96      0.69      0.80       171\n",
      "\n",
      "    accuracy                           0.91       623\n",
      "   macro avg       0.93      0.84      0.87       623\n",
      "weighted avg       0.91      0.91      0.90       623\n",
      "\n"
     ]
    },
    {
     "data": {
      "image/png": "[encoded data removed]",
      "text/plain": [
       "<Figure size 640x480 with 1 Axes>"
      ]
     },
     "metadata": {},
     "output_type": "display_data"
    }
   ],
   "source": [
    "# LOGISTIC REGRESSION\n",
    "from sklearn.linear_model import LogisticRegression\n",
    "\n",
    "logreg = LogisticRegression().fit(x_train, y_train)             # Initializing an instance for Logistic Regression and Training the model\n",
    "load_model = save_and_load_model(logreg, 'logreg_model.pkl')    # Saving and loading the model\n",
    "y_pred = load_model.predict(x_test)                             # Predicting the test data\n",
    "\n",
    "# Printing the scores and report\n",
    "print_scores(y_test, y_pred)\n",
    "print_report(y_test, y_pred)"
   ]
  },
  {
   "cell_type": "markdown",
   "metadata": {},
   "source": [
    "## Suppport Vector Machine\n",
    "SVM handles high-dimensional spaces effectively, which is advantageous for text data represented through TF-IDF. It maximizes the margin between classes, often resulting in better generalization on unseen data. "
   ]
  },
  {
   "cell_type": "code",
   "execution_count": 10,
   "metadata": {},
   "outputs": [
    {
     "name": "stdout",
     "output_type": "stream",
     "text": [
      "accuracy: 0.91\n",
      "precision: 0.92\n",
      "recall: 0.91\n",
      "f1_score: 0.91\n",
      "              precision    recall  f1-score   support\n",
      "\n",
      "           0       0.91      0.98      0.94       452\n",
      "           1       0.95      0.73      0.83       171\n",
      "\n",
      "    accuracy                           0.91       623\n",
      "   macro avg       0.93      0.86      0.88       623\n",
      "weighted avg       0.92      0.91      0.91       623\n",
      "\n"
     ]
    },
    {
     "data": {
      "image/png": "[encoded data removed]",
      "text/plain": [
       "<Figure size 640x480 with 1 Axes>"
      ]
     },
     "metadata": {},
     "output_type": "display_data"
    }
   ],
   "source": [
    "# SUPPORT VECTOR MACHINE\n",
    "from sklearn import svm\n",
    "\n",
    "svmsvc = svm.SVC().fit(x_train, y_train)                        # Initializing an instance for Support Vector Machine and Training the model\n",
    "load_model = save_and_load_model(svmsvc, 'svmsvc_model.pkl')    # Saving and loading the model\n",
    "y_pred = load_model.predict(x_test)                             # Predicting the test data\n",
    "\n",
    "# Printing the scores and report\n",
    "print_scores(y_test, y_pred)\n",
    "print_report(y_test, y_pred)"
   ]
  },
  {
   "cell_type": "markdown",
   "metadata": {},
   "source": [
    "# Data Analysis\n",
    "\n",
    "Among the three models used, the Support Vector Machine (SVM) model had the best results. It had the highest score across all four performance metrics (accuracy, precision, recall, and F1-score). \n",
    "We can also see from the confusion matrices that the SVM model had the least false negatives (46, compared to 53 for the other two models). This is important because the purpose of our research is to create a model that can predict whether an email should include an attachment and decrease the risk of sending emails without attachments. For this purpose, it is best to minimize false negatives.\n",
    "To summarize, the SVM model is chosen because it had the best performance among all three models used."
   ]
  },
  {
   "cell_type": "markdown",
   "metadata": {},
   "source": [
    "# References\n",
    "\n",
    "GeeksforGeeks. (2020, August 25). Advantages and Disadvantages of Logistic Regression. GeeksforGeeks; GeeksforGeeks. https://www.geeksforgeeks.org/advantages-and-disadvantages-of-logistic-regression/ \n",
    "\n",
    "What Are Naïve Bayes Classifiers? | IBM. (2021, October 6). Ibm.com. https://www.ibm.com/topics/naive-bayes#:~:text=Scales%20well%3A%20Compared%20to%20logistic,also%20has%20low%20storage%20requirements.\n",
    "\n",
    "What Is Support Vector Machine? | IBM. (2023, December 12). Ibm.com. https://www.ibm.com/topics/support-vector-machine \n"
   ]
  }
 ],
 "metadata": {
  "kernelspec": {
   "display_name": "Python 3",
   "language": "python",
   "name": "python3"
  },
  "language_info": {
   "codemirror_mode": {
    "name": "ipython",
    "version": 3
   },
   "file_extension": ".py",
   "mimetype": "text/x-python",
   "name": "python",
   "nbconvert_exporter": "python",
   "pygments_lexer": "ipython3",
   "version": "3.11.5"
  }
 },
 "nbformat": 4,
 "nbformat_minor": 2
}
